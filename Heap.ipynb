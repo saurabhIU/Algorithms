{
 "cells": [
  {
   "cell_type": "markdown",
   "metadata": {},
   "source": [
    "Heap is an implementation of priority queue.Its an array structure except its visualized as a nearly complete binary tree.\n",
    "\n",
    "\n",
    "Lets take an example of an array with 10 elements.\n",
    "\n",
    "[16,14,10,8,7,9,3,2,4,1]\n",
    "\n",
    "                                 16\n",
    "                               /    \\\n",
    "                              /      \\\n",
    "                             14      10\n",
    "                            /  \\     / \\\n",
    "                           /    \\   /   \\\n",
    "                          8      7 9     3\n",
    "                         / \\    /\n",
    "                        /   \\  /\n",
    "                       2     4 1\n",
    "\n",
    "Heap as a Tree:\n",
    "\n",
    "Root of Tree = First Elemet\n",
    "Parent(i) = i/2\n",
    "Left(i) = 2i\n",
    "Right(i) = 2i+1\n",
    "\n",
    "Max Heap property\n"
   ]
  }
 ],
 "metadata": {
  "kernelspec": {
   "display_name": "Python 3",
   "language": "python",
   "name": "python3"
  },
  "language_info": {
   "codemirror_mode": {
    "name": "ipython",
    "version": 3
   },
   "file_extension": ".py",
   "mimetype": "text/x-python",
   "name": "python",
   "nbconvert_exporter": "python",
   "pygments_lexer": "ipython3",
   "version": "3.8.2"
  }
 },
 "nbformat": 4,
 "nbformat_minor": 4
}
