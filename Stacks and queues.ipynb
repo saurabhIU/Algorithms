{
 "cells": [
  {
   "cell_type": "markdown",
   "metadata": {},
   "source": [
    "## Stack implementation in Python"
   ]
  },
  {
   "cell_type": "code",
   "execution_count": 2,
   "metadata": {},
   "outputs": [],
   "source": [
    "class MyStack:\n",
    "    def __init__(self):\n",
    "        self.items = []\n",
    "    \n",
    "    def push(self,item):\n",
    "        return self.items.append(item)\n",
    "    \n",
    "    def is_empty(self):\n",
    "        return self.items == []\n",
    "    \n",
    "    def pop(self):\n",
    "        if self.is_empty():\n",
    "            return None\n",
    "        return self.items.pop()\n",
    "    \n",
    "    def top(self):\n",
    "        if self.is_empty():\n",
    "            return None\n",
    "        return self.items[-1]\n",
    "    \n",
    "    def size(self):\n",
    "        return len(self.items)\n",
    "        \n"
   ]
  },
  {
   "cell_type": "markdown",
   "metadata": {},
   "source": [
    "## Queue implementation in Python"
   ]
  },
  {
   "cell_type": "code",
   "execution_count": 3,
   "metadata": {},
   "outputs": [],
   "source": [
    "class MyQueue:\n",
    "    def __init__(self):\n",
    "        self.queue_list = []\n",
    "    \n",
    "    def is_empty(self):\n",
    "        return self.queue_list == []\n",
    "    \n",
    "    def front(self):\n",
    "        if self.is_empty():\n",
    "            return None\n",
    "        return self.queue_list[0]\n",
    "    \n",
    "    def back(self):\n",
    "        if self.is_empty():\n",
    "            return None\n",
    "        return self.queue_list[-1]\n",
    "    \n",
    "    def size(self):\n",
    "        return len(self.queue_list)\n",
    "    \n",
    "    def enqueue(self,element):\n",
    "        self.queue_list.append(element)\n",
    "    \n",
    "    def dequeue(self):\n",
    "        if self.is_empty():\n",
    "            return None\n",
    "        front = self.front()\n",
    "        self.queue_list.remove(self.front())\n",
    "        return front\n",
    "\n",
    "\n",
    "queue = MyQueue()\n",
    "\n",
    "queue.enqueue(10)\n",
    "queue.enqueue(2)\n",
    "queue.enqueue(4)\n",
    "queue.enqueue(6)\n",
    "queue.enqueue(8)\n",
    "queue.enqueue(10)\n"
   ]
  },
  {
   "cell_type": "markdown",
   "metadata": {},
   "source": [
    "## Reversing First k Elements of Queue:\n",
    "\n",
    "### Implement the function reverseK(queue, k) which takes a queue and a number “k” as input and reverses the first “k” elements of the queue. "
   ]
  },
  {
   "cell_type": "code",
   "execution_count": 18,
   "metadata": {},
   "outputs": [],
   "source": [
    "# The time complexity of this function is O(n) where n is the size of the queue as the entire queue\n",
    "# is iterated over. k elements are iterated over in the first two loops and size-k are iterated over \n",
    "# in the last loop which sums up to n iterations.\n",
    "\n",
    "def reverseK(queue, k):\n",
    "    \n",
    "    if queue.is_empty() is True or k > queue.size() or k < 0:\n",
    "        return None\n",
    "    \n",
    "    stack = MyStack()\n",
    "    \n",
    "    for i in range(k):\n",
    "        stack.push(queue.dequeue())\n",
    "    for i in range(k):\n",
    "        queue.enqueue(stack.pop())\n",
    "    for i in range(queue.size()-k):\n",
    "        queue.enqueue(queue.dequeue())\n",
    "    \n",
    "    return queue.queue_list\n",
    "    "
   ]
  },
  {
   "cell_type": "code",
   "execution_count": 19,
   "metadata": {},
   "outputs": [
    {
     "data": {
      "text/plain": [
       "[5, 4, 3, 2, 1, 6, 7, 8, 9, 10]"
      ]
     },
     "execution_count": 19,
     "metadata": {},
     "output_type": "execute_result"
    }
   ],
   "source": [
    "queue = MyQueue()\n",
    "for i in range(1,11):\n",
    "    queue.enqueue(i)\n",
    "reverseK(queue,5)"
   ]
  },
  {
   "cell_type": "markdown",
   "metadata": {},
   "source": [
    "## Implement a Queue Using Stacks"
   ]
  },
  {
   "cell_type": "code",
   "execution_count": 29,
   "metadata": {},
   "outputs": [],
   "source": [
    "class NewQueue:\n",
    "    def __init__(self):\n",
    "        self.main_stack = MyStack()\n",
    "        # Write your code here\n",
    "\n",
    "        # Inserts Element in the Queue\n",
    "    def enqueue(self, value):\n",
    "        # Write your code here\n",
    "        self.main_stack.push(value)\n",
    "        print(str(value) + \"temp enqueued\")\n",
    "        return True\n",
    "        \n",
    "        # Removes Element From Queue\n",
    "\n",
    "    def dequeue(self):\n",
    "        # Write your code here\n",
    "        if self.main_stack.is_empty():\n",
    "            return None\n",
    "        front = self.main_stack.items[0]\n",
    "        self.main_stack.items.pop(0)\n",
    "        print(str(front) + \"main dequeued\")\n",
    "        return front"
   ]
  },
  {
   "cell_type": "code",
   "execution_count": 30,
   "metadata": {},
   "outputs": [
    {
     "name": "stdout",
     "output_type": "stream",
     "text": [
      "1temp enqueued\n",
      "2temp enqueued\n",
      "3temp enqueued\n",
      "4temp enqueued\n",
      "5temp enqueued\n",
      "----------\n",
      "1main dequeued\n",
      "2main dequeued\n",
      "3main dequeued\n",
      "4main dequeued\n",
      "5main dequeued\n"
     ]
    }
   ],
   "source": [
    "queue = NewQueue()\n",
    "for i in range(5):\n",
    "    queue.enqueue(i+1)\n",
    "\n",
    "print(\"----------\")\n",
    "\n",
    "for i in range(5):\n",
    "    queue.dequeue()"
   ]
  },
  {
   "cell_type": "code",
   "execution_count": null,
   "metadata": {},
   "outputs": [],
   "source": []
  }
 ],
 "metadata": {
  "kernelspec": {
   "display_name": "Python 3",
   "language": "python",
   "name": "python3"
  },
  "language_info": {
   "codemirror_mode": {
    "name": "ipython",
    "version": 3
   },
   "file_extension": ".py",
   "mimetype": "text/x-python",
   "name": "python",
   "nbconvert_exporter": "python",
   "pygments_lexer": "ipython3",
   "version": "3.8.2"
  }
 },
 "nbformat": 4,
 "nbformat_minor": 4
}
