{
 "cells": [
  {
   "cell_type": "markdown",
   "metadata": {},
   "source": [
    "## Challenge 1\n",
    "\n",
    "### Implement a function that removes all the even elements from a given list. Name it remove_even(list)."
   ]
  },
  {
   "cell_type": "markdown",
   "metadata": {},
   "source": [
    "### Solution"
   ]
  },
  {
   "cell_type": "code",
   "execution_count": 1,
   "metadata": {},
   "outputs": [
    {
     "data": {
      "text/plain": [
       "[1, 5, 3]"
      ]
     },
     "execution_count": 1,
     "metadata": {},
     "output_type": "execute_result"
    }
   ],
   "source": [
    "def remove_even(list):\n",
    "    return [i for i in list if i%2!=0]\n",
    "\n",
    "remove_even([1,2,4,5,10,6,3])"
   ]
  },
  {
   "cell_type": "markdown",
   "metadata": {},
   "source": [
    "## Challenge 2: Merge Two Sorted Lists\n",
    "\n",
    "### Implement a function that merges two sorted lists of m and n elements respectively, into another sorted list. Name it merge_lists(lst1, lst2)"
   ]
  },
  {
   "cell_type": "markdown",
   "metadata": {},
   "source": [
    "### Solution 1: Create an empty list and put the merged sorted array elements in the list and return.\n",
    "\n",
    "### Time complexity = O(m+n)\n"
   ]
  },
  {
   "cell_type": "code",
   "execution_count": 32,
   "metadata": {},
   "outputs": [
    {
     "data": {
      "text/plain": [
       "[1, 2, 3, 4, 19, 20, 45, 50, 67, 80, 81, 100]"
      ]
     },
     "execution_count": 32,
     "metadata": {},
     "output_type": "execute_result"
    }
   ],
   "source": [
    "def merge_lists(lst1, lst2):\n",
    "    merged_list = []\n",
    "    lst1_ptr=0\n",
    "    lst2_ptr = 0\n",
    "    loop_len = len(lst1)+len(lst2)\n",
    "    for i in range(loop_len):\n",
    "        while (lst1_ptr < len(lst1) and  lst2_ptr < len(lst2)):\n",
    "            if lst1[lst1_ptr] < lst2[lst2_ptr]:\n",
    "                merged_list.append(lst1[lst1_ptr])\n",
    "                lst1_ptr+=1\n",
    "                loop_len+=1\n",
    "            else:\n",
    "                merged_list.append(lst2[lst2_ptr])\n",
    "                lst2_ptr+=1\n",
    "                loop_len+=1\n",
    "        \n",
    "        if lst1_ptr == len(lst1) and lst2_ptr < len(lst2):\n",
    "            merged_list.append(lst2[lst2_ptr])\n",
    "            lst2_ptr+=1\n",
    "        if lst2_ptr == len(lst2)and lst1_ptr < len(lst1):\n",
    "            merged_list.append(lst1[lst1_ptr])\n",
    "            lst1_ptr+=1\n",
    "            \n",
    "        \n",
    "    return merged_list                \n",
    "\n",
    "\n",
    "merge_lists([1,50,80],[2,3,4,19,20,45,67,81,100])           \n",
    "        "
   ]
  },
  {
   "cell_type": "markdown",
   "metadata": {},
   "source": [
    "### Solution 2: In place merge"
   ]
  },
  {
   "cell_type": "code",
   "execution_count": 42,
   "metadata": {},
   "outputs": [
    {
     "data": {
      "text/plain": [
       "[1, 2, 3, 4, 19, 20, 45, 50, 67, 80, 81, 100]"
      ]
     },
     "execution_count": 42,
     "metadata": {},
     "output_type": "execute_result"
    }
   ],
   "source": [
    "def merge_lists_inplace(lst1, lst2):\n",
    "    lst1_ptr=0\n",
    "    lst2_ptr = 0\n",
    "    \n",
    "    while (lst1_ptr < len(lst1) and  lst2_ptr < len(lst2)):\n",
    "        \n",
    "        if lst1[lst1_ptr] < lst2[lst2_ptr]:\n",
    "            lst1_ptr+=1\n",
    "        else:\n",
    "            lst1.insert(lst1_ptr,lst2[lst2_ptr])\n",
    "            lst2_ptr+=1      \n",
    "    if lst2_ptr < len(lst2):\n",
    "        lst1.extend(lst2[lst2_ptr:])\n",
    "    \n",
    "    return lst1\n",
    "        \n",
    "merge_lists_inplace([1,50,80],[2,3,4,19,20,45,67,81,100])           "
   ]
  },
  {
   "cell_type": "markdown",
   "metadata": {},
   "source": [
    "## Challenge 3: Implement a function, find_product(lst), which modifies a list so that each index has a product of all the numbers present in the list except the number stored at that index."
   ]
  },
  {
   "cell_type": "code",
   "execution_count": 3,
   "metadata": {},
   "outputs": [
    {
     "data": {
      "text/plain": [
       "[24.0, 12.0, 8.0, 6.0]"
      ]
     },
     "execution_count": 3,
     "metadata": {},
     "output_type": "execute_result"
    }
   ],
   "source": [
    "def find_product(lst):\n",
    "    product=1\n",
    "    for i in(lst):\n",
    "        product*=i\n",
    "    for i in range(len(lst)):\n",
    "        lst[i]=product/lst[i]\n",
    "    return lst\n",
    "\n",
    "find_product([1,2,3,4])"
   ]
  },
  {
   "cell_type": "markdown",
   "metadata": {},
   "source": [
    "## Challenge 4: Implement a function findMinimum(lst) which finds the smallest number in the given list"
   ]
  },
  {
   "cell_type": "markdown",
   "metadata": {},
   "source": [
    "### Solution:"
   ]
  },
  {
   "cell_type": "code",
   "execution_count": 6,
   "metadata": {},
   "outputs": [
    {
     "data": {
      "text/plain": [
       "0"
      ]
     },
     "execution_count": 6,
     "metadata": {},
     "output_type": "execute_result"
    }
   ],
   "source": [
    "def find_minimum(arr):\n",
    "    smallest_num = arr[0]\n",
    "    for i in range(1,len(arr)):\n",
    "        if arr[i]<smallest_num:\n",
    "            smallest_num=arr[i]\n",
    "    return smallest_num\n",
    "        \n",
    "\n",
    "find_minimum([9,2,0,6])"
   ]
  },
  {
   "cell_type": "markdown",
   "metadata": {},
   "source": [
    "## Challenge 4 Implement a function right_rotate(lst, k) which will rotate the given list by k. This means that the right-most elements will appear at the left-most position in the list and so on. You only have to rotate the list by one element at a time"
   ]
  },
  {
   "cell_type": "code",
   "execution_count": 29,
   "metadata": {},
   "outputs": [
    {
     "data": {
      "text/plain": [
       "[30, 40, 50, 10, 20]"
      ]
     },
     "execution_count": 29,
     "metadata": {},
     "output_type": "execute_result"
    }
   ],
   "source": [
    "def right_rotate(lst, k):\n",
    "    k = k % len(lst)\n",
    "    rotated_list = []\n",
    "    for i in range(len(lst)-k,len(lst)):\n",
    "        rotated_list.append(lst[i])\n",
    "    for i in range(0,len(lst)-k):\n",
    "        rotated_list.append(lst[i])\n",
    "    \n",
    "    return rotated_list\n",
    "\n",
    "lst = [10,20,30,40,50]\n",
    "right_rotate(lst,8)"
   ]
  },
  {
   "cell_type": "code",
   "execution_count": 28,
   "metadata": {},
   "outputs": [
    {
     "name": "stdout",
     "output_type": "stream",
     "text": [
      "2\n",
      "[40, 50, 10, 20, 30]\n"
     ]
    }
   ],
   "source": [
    "# Solution 2: A more Pythonic way\n",
    "\n",
    "def right_rotate(lst, k):\n",
    "    # get rotation index\n",
    "    k = k % len(lst)\n",
    "    print(k)\n",
    "\n",
    "    return lst[-k:] + lst[:-k]\n",
    "\n",
    "\n",
    "print(right_rotate([10, 20, 30, 40, 50], abs(2)))"
   ]
  },
  {
   "cell_type": "markdown",
   "metadata": {},
   "source": [
    "## Challenge 5: Implement a function rearrange(lst) which rearranges the elements such that all the negative elements appear on the left and positive elements appear at the right of the list. Note that it is not necessary to maintain the sorted order of the input list"
   ]
  },
  {
   "cell_type": "code",
   "execution_count": 30,
   "metadata": {},
   "outputs": [
    {
     "data": {
      "text/plain": [
       "[-1, -9, -6, 10, 20, 4, 5]"
      ]
     },
     "execution_count": 30,
     "metadata": {},
     "output_type": "execute_result"
    }
   ],
   "source": [
    "def rearrange(lst):\n",
    "    negative_num = []\n",
    "    positive_num = []\n",
    "    for i in(lst):\n",
    "        if i<0:\n",
    "            negative_num.append(i)\n",
    "        else:\n",
    "            positive_num.append(i)\n",
    "            \n",
    "    return negative_num+positive_num\n",
    "            \n",
    "rearrange([10,-1,20,4,5,-9,-6])"
   ]
  },
  {
   "cell_type": "code",
   "execution_count": 38,
   "metadata": {},
   "outputs": [
    {
     "data": {
      "text/plain": [
       "[-1, -9, -6, 4, 5, 10, 20]"
      ]
     },
     "execution_count": 38,
     "metadata": {},
     "output_type": "execute_result"
    }
   ],
   "source": [
    "# Solution 2: Rearrange in place\n",
    "\n",
    "def rearrange(lst):\n",
    "    index_track = 0\n",
    "    for curr in range(len(lst)):\n",
    "        if lst[curr] < 0:\n",
    "            if curr is not index_track:\n",
    "                lst[curr], lst[index_track] = lst[index_track], lst[curr]\n",
    "            index_track+=1\n",
    "            \n",
    "    return lst\n",
    "            \n",
    "rearrange([10,-1,20,4,5,-9,-6])"
   ]
  },
  {
   "cell_type": "code",
   "execution_count": 40,
   "metadata": {},
   "outputs": [
    {
     "data": {
      "text/plain": [
       "[-1, -9, -6, 10, 20, 4, 5]"
      ]
     },
     "execution_count": 40,
     "metadata": {},
     "output_type": "execute_result"
    }
   ],
   "source": [
    "# Solution 3: Pythonic Rearrangement\n",
    "\n",
    "def rearrange(lst):\n",
    "    \n",
    "    return [i for i in lst if i<0] + [i for i in lst if i>=0]\n",
    "\n",
    "rearrange([10,-1,20,4,5,-9,-6])"
   ]
  },
  {
   "cell_type": "markdown",
   "metadata": {},
   "source": [
    "## Challenge 6: Implement a function find_second_maximum(lst) which returns the second largest element in the list."
   ]
  },
  {
   "cell_type": "code",
   "execution_count": 28,
   "metadata": {},
   "outputs": [
    {
     "name": "stdout",
     "output_type": "stream",
     "text": [
      " i is 45 first max is 45 and second max is 0\n",
      " i is 8 first max is 45 and second max is 8\n"
     ]
    },
    {
     "data": {
      "text/plain": [
       "8"
      ]
     },
     "execution_count": 28,
     "metadata": {},
     "output_type": "execute_result"
    }
   ],
   "source": [
    "def find_second_maximum(lst):\n",
    "    first_max = 0\n",
    "    second_max = 0\n",
    "    for i in (lst):\n",
    "        if i > second_max and i < first_max:\n",
    "            second_max=i\n",
    "        elif i > first_max:\n",
    "            second_max=first_max\n",
    "            first_max=i\n",
    "        print(f' i is {i} first max is {first_max} and second max is {second_max}')\n",
    "    return second_max        \n",
    "\n",
    "find_second_maximum([45,8])"
   ]
  },
  {
   "cell_type": "markdown",
   "metadata": {},
   "source": [
    "## Challenge 7: Implement a function called max_min(lst) which will re-arrange the elements of a sorted list such that the 0th index will have the largest number, the 1st index will have the smallest, and the third index will have second-largest, and so on. In other words, all the odd-numbered indices will have the largest numbers in the list in descending order and the even-numbered indices will have the smallest numbers in ascending order.\n",
    "\n"
   ]
  },
  {
   "cell_type": "code",
   "execution_count": 58,
   "metadata": {},
   "outputs": [
    {
     "name": "stdout",
     "output_type": "stream",
     "text": [
      "i is 0, even_index is 0 , k is 4\n",
      "i is 2, even_index is 1 , k is 4\n",
      "i is 4, even_index is 2 , k is 4\n"
     ]
    },
    {
     "data": {
      "text/plain": [
       "[5, 1, 4, 2, 3]"
      ]
     },
     "execution_count": 58,
     "metadata": {},
     "output_type": "execute_result"
    }
   ],
   "source": [
    "def max_min(lst):\n",
    "    \n",
    "    lst.sort()\n",
    "    odd_index = 0\n",
    "    even_index = 0\n",
    "    k = len(lst)-1\n",
    "    result = []\n",
    "    \n",
    "    for i in range(len(lst)):\n",
    "        \n",
    "        if i % 2 ==0:\n",
    "            \n",
    "            result.append(lst[k-even_index])\n",
    "            even_index+=1\n",
    "        else:\n",
    "            result.append(lst[odd_index])\n",
    "            odd_index+=1\n",
    "            \n",
    "            \n",
    "    return result\n",
    "\n",
    "\n",
    "max_min([1,2,3,4,5])"
   ]
  },
  {
   "cell_type": "code",
   "execution_count": 64,
   "metadata": {},
   "outputs": [
    {
     "data": {
      "text/plain": [
       "[5, 1, 4, 2, 3]"
      ]
     },
     "execution_count": 64,
     "metadata": {},
     "output_type": "execute_result"
    }
   ],
   "source": [
    "# Solution 2:\n",
    "\n",
    "def max_min(lst):\n",
    "    result = []\n",
    "    for i in range(len(lst)//2):\n",
    "        result.append(lst[-(i+1)])\n",
    "        result.append(lst[i])\n",
    "    if len(lst)%2 == 1:\n",
    "        result.append(lst[len(lst)//2])\n",
    "    return result\n",
    "\n",
    "max_min([1,2,3,4,5])"
   ]
  },
  {
   "cell_type": "markdown",
   "metadata": {},
   "source": [
    "## Challenge 8: Given an integer list, return the maximum sublist sum. The list may contain both positive and negative integers and is unsorted"
   ]
  },
  {
   "cell_type": "code",
   "execution_count": 70,
   "metadata": {},
   "outputs": [
    {
     "data": {
      "text/plain": [
       "12"
      ]
     },
     "execution_count": 70,
     "metadata": {},
     "output_type": "execute_result"
    }
   ],
   "source": [
    "def find_max_sum_sublist(lst):\n",
    "    max_sum = 0\n",
    "    for i in range(len(lst)):\n",
    "        sum = lst[i]\n",
    "        for j in range(i+1,len(lst)):\n",
    "            sum = sum + lst[j]\n",
    "            if sum > max_sum:\n",
    "                max_sum = sum\n",
    "    return max_sum\n",
    "\n",
    "lst = [-4,2,-5,1,2,3,6,-5,1]\n",
    "find_max_sum_sublist(lst)"
   ]
  },
  {
   "cell_type": "markdown",
   "metadata": {},
   "source": [
    "#### Kadane's algorithm"
   ]
  },
  {
   "cell_type": "code",
   "execution_count": 80,
   "metadata": {},
   "outputs": [
    {
     "data": {
      "text/plain": [
       "12"
      ]
     },
     "execution_count": 80,
     "metadata": {},
     "output_type": "execute_result"
    }
   ],
   "source": [
    "# O(n) time | O(1) space\n",
    "def find_max_sum_sublist_kadane(lst):\n",
    "    current_max = lst[0]\n",
    "    global_max = lst[0]\n",
    "    \n",
    "    for num in lst[1:]:\n",
    "        current_max = max(num, num+current_max)\n",
    "        global_max = max(current_max,global_max)\n",
    "    return global_max\n",
    "\n",
    "lst = [-4,2,-5,1,2,3,6,-5,1]\n",
    "find_max_sum_sublist_kadane(lst)       "
   ]
  },
  {
   "cell_type": "markdown",
   "metadata": {},
   "source": [
    "### Some List Facts"
   ]
  },
  {
   "cell_type": "markdown",
   "metadata": {},
   "source": [
    "1. Python list elements stored in contiguous memory locations.The objects of lists themselves are stored in random memory locations whereas the pointers that make up the list are stored in sequential locations\n",
    "\n",
    "2. "
   ]
  }
 ],
 "metadata": {
  "kernelspec": {
   "display_name": "Python 3",
   "language": "python",
   "name": "python3"
  },
  "language_info": {
   "codemirror_mode": {
    "name": "ipython",
    "version": 3
   },
   "file_extension": ".py",
   "mimetype": "text/x-python",
   "name": "python",
   "nbconvert_exporter": "python",
   "pygments_lexer": "ipython3",
   "version": "3.8.2"
  }
 },
 "nbformat": 4,
 "nbformat_minor": 4
}
